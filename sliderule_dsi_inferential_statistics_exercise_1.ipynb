{
 "cells": [
  {
   "cell_type": "markdown",
   "metadata": {},
   "source": [
    "# What is the True Normal Human Body Temperature? \n",
    "\n",
    "#### Background\n",
    "\n",
    "The mean normal body temperature was held to be 37$^{\\circ}$C or 98.6$^{\\circ}$F for more than 120 years since it was first conceptualized and reported by Carl Wunderlich in a famous 1868 book. But, is this value statistically correct?"
   ]
  },
  {
   "cell_type": "markdown",
   "metadata": {},
   "source": [
    "<h3>Exercises</h3>\n",
    "\n",
    "<p>In this exercise, you will analyze a dataset of human body temperatures and employ the concepts of hypothesis testing, confidence intervals, and statistical significance.</p>\n",
    "\n",
    "<p>Answer the following questions <b>in this notebook below and submit to your Github account</b>.</p> \n",
    "\n",
    "<ol>\n",
    "<li>  Is the distribution of body temperatures normal? \n",
    "    <ul>\n",
    "    <li> Although this is not a requirement for the Central Limit Theorem to hold (read the introduction on Wikipedia's page about the CLT carefully: https://en.wikipedia.org/wiki/Central_limit_theorem), it gives us some peace of mind that the population may also be normally distributed if we assume that this sample is representative of the population.\n",
    "    <li> Think about the way you're going to check for the normality of the distribution. Graphical methods are usually used first, but there are also other ways: https://en.wikipedia.org/wiki/Normality_test\n",
    "    </ul>\n",
    "<li>  Is the sample size large? Are the observations independent?\n",
    "    <ul>\n",
    "    <li> Remember that this is a condition for the Central Limit Theorem, and hence the statistical tests we are using, to apply.\n",
    "    </ul>\n",
    "<li>  Is the true population mean really 98.6 degrees F?\n",
    "    <ul>\n",
    "    <li> First, try a bootstrap hypothesis test.\n",
    "    <li> Now, let's try frequentist statistical testing. Would you use a one-sample or two-sample test? Why?\n",
    "    <li> In this situation, is it appropriate to use the $t$ or $z$ statistic? \n",
    "    <li> Now try using the other test. How is the result be different? Why?\n",
    "    </ul>\n",
    "<li>  Draw a small sample of size 10 from the data and repeat both frequentist tests. \n",
    "    <ul>\n",
    "    <li> Which one is the correct one to use? \n",
    "    <li> What do you notice? What does this tell you about the difference in application of the $t$ and $z$ statistic?\n",
    "    </ul>\n",
    "<li>  At what temperature should we consider someone's temperature to be \"abnormal\"?\n",
    "    <ul>\n",
    "    <li> As in the previous example, try calculating everything using the boostrap approach, as well as the frequentist approach.\n",
    "    <li> Start by computing the margin of error and confidence interval. When calculating the confidence interval, keep in mind that you should use the appropriate formula for one draw, and not N draws.\n",
    "    </ul>\n",
    "<li>  Is there a significant difference between males and females in normal temperature?\n",
    "    <ul>\n",
    "    <li> What testing approach did you use and why?\n",
    "    <li> Write a story with your conclusion in the context of the original problem.\n",
    "    </ul>\n",
    "</ol>\n",
    "\n",
    "You can include written notes in notebook cells using Markdown: \n",
    "   - In the control panel at the top, choose Cell > Cell Type > Markdown\n",
    "   - Markdown syntax: http://nestacms.com/docs/creating-content/markdown-cheat-sheet\n",
    "\n",
    "#### Resources\n",
    "\n",
    "+ Information and data sources: http://www.amstat.org/publications/jse/datasets/normtemp.txt, http://www.amstat.org/publications/jse/jse_data_archive.htm\n",
    "+ Markdown syntax: http://nestacms.com/docs/creating-content/markdown-cheat-sheet\n",
    "\n",
    "****"
   ]
  },
  {
   "cell_type": "code",
   "execution_count": 24,
   "metadata": {},
   "outputs": [
    {
     "name": "stderr",
     "output_type": "stream",
     "text": [
      "C:\\Users\\myildirim\\AppData\\Local\\Continuum\\anaconda3\\lib\\site-packages\\statsmodels\\compat\\pandas.py:56: FutureWarning: The pandas.core.datetools module is deprecated and will be removed in a future version. Please use the pandas.tseries module instead.\n",
      "  from pandas.core import datetools\n"
     ]
    }
   ],
   "source": [
    "import pandas as pd\n",
    "import numpy as np\n",
    "import matplotlib.pyplot as plt\n",
    "import seaborn as sns\n",
    "import scipy.stats as stats\n",
    "import statsmodels.api as sm"
   ]
  },
  {
   "cell_type": "code",
   "execution_count": 9,
   "metadata": {},
   "outputs": [
    {
     "data": {
      "text/html": [
       "<div>\n",
       "<style scoped>\n",
       "    .dataframe tbody tr th:only-of-type {\n",
       "        vertical-align: middle;\n",
       "    }\n",
       "\n",
       "    .dataframe tbody tr th {\n",
       "        vertical-align: top;\n",
       "    }\n",
       "\n",
       "    .dataframe thead th {\n",
       "        text-align: right;\n",
       "    }\n",
       "</style>\n",
       "<table border=\"1\" class=\"dataframe\">\n",
       "  <thead>\n",
       "    <tr style=\"text-align: right;\">\n",
       "      <th></th>\n",
       "      <th>temperature</th>\n",
       "      <th>gender</th>\n",
       "      <th>heart_rate</th>\n",
       "    </tr>\n",
       "  </thead>\n",
       "  <tbody>\n",
       "    <tr>\n",
       "      <th>0</th>\n",
       "      <td>99.3</td>\n",
       "      <td>F</td>\n",
       "      <td>68.0</td>\n",
       "    </tr>\n",
       "    <tr>\n",
       "      <th>1</th>\n",
       "      <td>98.4</td>\n",
       "      <td>F</td>\n",
       "      <td>81.0</td>\n",
       "    </tr>\n",
       "    <tr>\n",
       "      <th>2</th>\n",
       "      <td>97.8</td>\n",
       "      <td>M</td>\n",
       "      <td>73.0</td>\n",
       "    </tr>\n",
       "    <tr>\n",
       "      <th>3</th>\n",
       "      <td>99.2</td>\n",
       "      <td>F</td>\n",
       "      <td>66.0</td>\n",
       "    </tr>\n",
       "    <tr>\n",
       "      <th>4</th>\n",
       "      <td>98.0</td>\n",
       "      <td>F</td>\n",
       "      <td>73.0</td>\n",
       "    </tr>\n",
       "  </tbody>\n",
       "</table>\n",
       "</div>"
      ],
      "text/plain": [
       "   temperature gender  heart_rate\n",
       "0         99.3      F        68.0\n",
       "1         98.4      F        81.0\n",
       "2         97.8      M        73.0\n",
       "3         99.2      F        66.0\n",
       "4         98.0      F        73.0"
      ]
     },
     "execution_count": 9,
     "metadata": {},
     "output_type": "execute_result"
    }
   ],
   "source": [
    "# Your work here.\n",
    "df = pd.read_csv('data/human_body_temperature.csv')\n",
    "df.head(5)"
   ]
  },
  {
   "cell_type": "code",
   "execution_count": 10,
   "metadata": {},
   "outputs": [
    {
     "data": {
      "text/plain": [
       "130"
      ]
     },
     "execution_count": 10,
     "metadata": {},
     "output_type": "execute_result"
    }
   ],
   "source": [
    "len(df)"
   ]
  },
  {
   "cell_type": "markdown",
   "metadata": {},
   "source": [
    "1. Is the distribution of body temperature normal?"
   ]
  },
  {
   "cell_type": "code",
   "execution_count": 25,
   "metadata": {},
   "outputs": [
    {
     "data": {
      "text/plain": [
       "Text(0.5,0,'Temperature')"
      ]
     },
     "execution_count": 25,
     "metadata": {},
     "output_type": "execute_result"
    },
    {
     "data": {
      "image/png": "[encoded data removed]",
      "text/plain": [
       "<matplotlib.figure.Figure at 0x19b4e923748>"
      ]
     },
     "metadata": {},
     "output_type": "display_data"
    }
   ],
   "source": [
    "df.temperature.plot(kind='hist')\n",
    "plt.ylabel('Frequency')\n",
    "plt.xlabel('Temperature')"
   ]
  },
  {
   "cell_type": "code",
   "execution_count": 16,
   "metadata": {},
   "outputs": [],
   "source": [
    "df_mean = np.mean(df.temperature)\n",
    "df_sd = np.std(df.temperature)\n",
    "temperatures = df.temperature.values"
   ]
  },
  {
   "cell_type": "code",
   "execution_count": 17,
   "metadata": {},
   "outputs": [
    {
     "name": "stdout",
     "output_type": "stream",
     "text": [
      "Proportion of values within one standard deviation of the mean: 0.6923076923076923\n",
      "Proportion of values within two standard deviations of the mean: 0.9461538461538461\n",
      "Proportion of values within three standard deviations of the mean: 0.9923076923076923\n"
     ]
    }
   ],
   "source": [
    "print('Proportion of values within one standard deviation of the mean:',\n",
    "      len(temperatures[(temperatures>df_mean-df_sd) & (temperatures<df_mean+df_sd)])/len(temperatures))\n",
    "\n",
    "print('Proportion of values within two standard deviations of the mean:',\n",
    "      len(temperatures[(temperatures>df_mean-2*df_sd) & (temperatures<df_mean+2*df_sd)])/len(temperatures))\n",
    "\n",
    "print('Proportion of values within three standard deviations of the mean:',\n",
    "      len(temperatures[(temperatures>df_mean-3*df_sd) & (temperatures<df_mean+3*df_sd)])/len(temperatures))"
   ]
  },
  {
   "cell_type": "markdown",
   "metadata": {},
   "source": [
    "It looks like 68-95-99.7 rule holds, but I want to have stronger proof. "
   ]
  },
  {
   "cell_type": "code",
   "execution_count": 18,
   "metadata": {},
   "outputs": [
    {
     "data": {
      "text/plain": [
       "NormaltestResult(statistic=2.703801433319203, pvalue=0.2587479863488254)"
      ]
     },
     "execution_count": 18,
     "metadata": {},
     "output_type": "execute_result"
    }
   ],
   "source": [
    "import scipy.stats as stats\n",
    "stats.normaltest(df.temperature)"
   ]
  },
  {
   "cell_type": "markdown",
   "metadata": {},
   "source": [
    "The second value is a p-value which is nearly 26%. That more than large enough to fail to reject the null hypothesis. That being said, let me set the threshold I'll use to be 5%. I can now work under the assumption that the temperatures are normally distributed."
   ]
  },
  {
   "cell_type": "markdown",
   "metadata": {},
   "source": [
    "2. Is the sample size large? Are the observations independent?.\n",
    "The population size is bigger than 30(its 130). So yes it is large enough for z-test."
   ]
  },
  {
   "cell_type": "markdown",
   "metadata": {},
   "source": [
    "3. Is the true population mean really 98.6 degrees F?\n",
    "\n",
    "This is the situation:\n",
    "\n",
    "H0 = 98.6\n",
    "\n",
    "HA != 98.6\n",
    "\n",
    "alpha = .05"
   ]
  },
  {
   "cell_type": "code",
   "execution_count": 19,
   "metadata": {},
   "outputs": [
    {
     "data": {
      "text/plain": [
       "(-5.4548232923645195, 4.9021570141012155e-08)"
      ]
     },
     "execution_count": 19,
     "metadata": {},
     "output_type": "execute_result"
    }
   ],
   "source": [
    "from statsmodels.stats.weightstats import ztest\n",
    "ztest(df.temperature,value=98.6)"
   ]
  },
  {
   "cell_type": "markdown",
   "metadata": {},
   "source": [
    "The p-value(0.000000049) is very small. Therefore, I reject the null hypothesis that the true population mean is 98.6 degrees Fahrenheit.\n",
    "\n",
    "Let's try t-test."
   ]
  },
  {
   "cell_type": "code",
   "execution_count": 20,
   "metadata": {},
   "outputs": [
    {
     "data": {
      "text/plain": [
       "Ttest_1sampResult(statistic=-5.4548232923645195, pvalue=2.4106320415561276e-07)"
      ]
     },
     "execution_count": 20,
     "metadata": {},
     "output_type": "execute_result"
    }
   ],
   "source": [
    "stats.ttest_1samp(df.temperature,98.6)"
   ]
  },
  {
   "cell_type": "markdown",
   "metadata": {},
   "source": [
    "The p-value(0.00000024) is still very small. I reject the null hypothesis."
   ]
  },
  {
   "cell_type": "markdown",
   "metadata": {},
   "source": [
    "4. Draw a small sample of size 10 from the data and repeat both frequentist tests."
   ]
  },
  {
   "cell_type": "code",
   "execution_count": 22,
   "metadata": {},
   "outputs": [
    {
     "data": {
      "text/html": [
       "<div>\n",
       "<style scoped>\n",
       "    .dataframe tbody tr th:only-of-type {\n",
       "        vertical-align: middle;\n",
       "    }\n",
       "\n",
       "    .dataframe tbody tr th {\n",
       "        vertical-align: top;\n",
       "    }\n",
       "\n",
       "    .dataframe thead th {\n",
       "        text-align: right;\n",
       "    }\n",
       "</style>\n",
       "<table border=\"1\" class=\"dataframe\">\n",
       "  <thead>\n",
       "    <tr style=\"text-align: right;\">\n",
       "      <th></th>\n",
       "      <th>temperature</th>\n",
       "      <th>gender</th>\n",
       "      <th>heart_rate</th>\n",
       "    </tr>\n",
       "  </thead>\n",
       "  <tbody>\n",
       "    <tr>\n",
       "      <th>55</th>\n",
       "      <td>98.6</td>\n",
       "      <td>F</td>\n",
       "      <td>82.0</td>\n",
       "    </tr>\n",
       "    <tr>\n",
       "      <th>40</th>\n",
       "      <td>98.4</td>\n",
       "      <td>F</td>\n",
       "      <td>79.0</td>\n",
       "    </tr>\n",
       "    <tr>\n",
       "      <th>19</th>\n",
       "      <td>99.4</td>\n",
       "      <td>M</td>\n",
       "      <td>70.0</td>\n",
       "    </tr>\n",
       "    <tr>\n",
       "      <th>31</th>\n",
       "      <td>97.6</td>\n",
       "      <td>F</td>\n",
       "      <td>61.0</td>\n",
       "    </tr>\n",
       "    <tr>\n",
       "      <th>115</th>\n",
       "      <td>98.0</td>\n",
       "      <td>M</td>\n",
       "      <td>64.0</td>\n",
       "    </tr>\n",
       "    <tr>\n",
       "      <th>56</th>\n",
       "      <td>98.8</td>\n",
       "      <td>F</td>\n",
       "      <td>70.0</td>\n",
       "    </tr>\n",
       "    <tr>\n",
       "      <th>69</th>\n",
       "      <td>98.9</td>\n",
       "      <td>M</td>\n",
       "      <td>80.0</td>\n",
       "    </tr>\n",
       "    <tr>\n",
       "      <th>105</th>\n",
       "      <td>96.7</td>\n",
       "      <td>M</td>\n",
       "      <td>71.0</td>\n",
       "    </tr>\n",
       "    <tr>\n",
       "      <th>81</th>\n",
       "      <td>98.0</td>\n",
       "      <td>M</td>\n",
       "      <td>67.0</td>\n",
       "    </tr>\n",
       "    <tr>\n",
       "      <th>26</th>\n",
       "      <td>97.8</td>\n",
       "      <td>F</td>\n",
       "      <td>62.0</td>\n",
       "    </tr>\n",
       "  </tbody>\n",
       "</table>\n",
       "</div>"
      ],
      "text/plain": [
       "     temperature gender  heart_rate\n",
       "55          98.6      F        82.0\n",
       "40          98.4      F        79.0\n",
       "19          99.4      M        70.0\n",
       "31          97.6      F        61.0\n",
       "115         98.0      M        64.0\n",
       "56          98.8      F        70.0\n",
       "69          98.9      M        80.0\n",
       "105         96.7      M        71.0\n",
       "81          98.0      M        67.0\n",
       "26          97.8      F        62.0"
      ]
     },
     "execution_count": 22,
     "metadata": {},
     "output_type": "execute_result"
    }
   ],
   "source": [
    "small_sample = df.sample(10, random_state=42)\n",
    "small_sample"
   ]
  },
  {
   "cell_type": "code",
   "execution_count": 26,
   "metadata": {},
   "outputs": [
    {
     "name": "stdout",
     "output_type": "stream",
     "text": [
      "Ttest_1sampResult(statistic=-1.5606191828511504, pvalue=0.15304624869561917)\n",
      "(-1.5606191828511504, 0.11861362990253162)\n"
     ]
    }
   ],
   "source": [
    "print(stats.ttest_1samp(small_sample.temperature, 98.6))\n",
    "print(sm.stats.ztest(small_sample.temperature, value=98.6))"
   ]
  },
  {
   "cell_type": "markdown",
   "metadata": {},
   "source": [
    "Both tests give similar results and they are unable to reject that the sample mean is different from the population mean. In other words, there is no statistical difference between the sample mean and population mean. This result is the opposite of what we got earlier though. This is because of the rather small sample size which does not give us a large enough sample size. However, we can perhaps determine what that size might be.\n",
    "\n",
    "We can do the following. We can sample the data at various sizes (say steps of 10 between 10 and 130) and determine both t- and z-tests. At each sample size, we can repeat the measurements many, many times. This way we can get the average test statistic which should be relatively unbiased estimate. We can do this below and then plot the p-value as a function of (sub)sample size. A good check is for the values at x=130 are the same ones calculated in Question 3 above."
   ]
  },
  {
   "cell_type": "code",
   "execution_count": 28,
   "metadata": {},
   "outputs": [
    {
     "data": {
      "image/png": "[encoded data removed]",
      "text/plain": [
       "<matplotlib.figure.Figure at 0x19b4ea30be0>"
      ]
     },
     "metadata": {},
     "output_type": "display_data"
    }
   ],
   "source": [
    "sample_results = pd.DataFrame(index=range(13),columns=['x','tp','zp'])\n",
    "\n",
    "def subsample(data,n,size):\n",
    "    '''Function for subsampling for the test statistics'''\n",
    "    t_test, z_test = [], []\n",
    "    for i in range(size):\n",
    "        sample = data.sample(n,replace=False) #Sample w/out replacements\n",
    "        ts, tp = stats.ttest_1samp(sample.temperature, 98.6)\n",
    "        zs, zp = sm.stats.ztest(sample.temperature, value=98.6)\n",
    "        t_test.append(tp)\n",
    "        z_test.append(zp)\n",
    "    return (np.mean(t_test), np.mean(z_test)) #Return the average test statistics\n",
    "\n",
    "#Loop over the entire range of size of dataset, in steps of 10\n",
    "for i in range(1,14):\n",
    "    tp, zp = subsample(df, i*10, 1000)\n",
    "    sample_results.x[i-1]  = i*10\n",
    "    sample_results.tp[i-1] = tp\n",
    "    sample_results.zp[i-1] = zp\n",
    "    \n",
    "#Plot the results including a line for alpha=0.05\n",
    "sns.set(rc={\"figure.figsize\": (15, 8), 'legend.fontsize': 18})\n",
    "plt.plot(sample_results.x, sample_results.tp, marker='.', ms=20, label='t-test')\n",
    "plt.plot(sample_results.x, sample_results.zp, marker='.', ms=20, label='z-test')\n",
    "plt.axhline(0.05, color='red', ls='--', lw=1.)\n",
    "plt.xlabel('Subsample Size')\n",
    "plt.ylabel('p-value')\n",
    "plt.ylim(1e-8,1e0)\n",
    "plt.legend()\n",
    "plt.yscale('log')\n",
    "plt.show()"
   ]
  },
  {
   "cell_type": "markdown",
   "metadata": {},
   "source": [
    "We can see that it takes a sample size at or greater than 30 for the p-value of either test statistic to be at the alpha = 0.05 level (the dotted red line). This seems to make sense that value is the general rule of thumb for these types of calculations. It is also worth noting we do recover the original values at the subsample size of 130.\n",
    "\n",
    "The tests cannot distinguish a difference between the smaller sample mean and population means."
   ]
  },
  {
   "cell_type": "markdown",
   "metadata": {},
   "source": [
    "5. At what temperature should we consider someone's temperature to be \"abnormal\"?\n",
    "\n",
    "A 95% confidence interval would be good. The margin of error, M.E, is given by:\n",
    "\n",
    "M.E = critical value x standard error\n",
    "\n",
    "The critical value is 1.96 for a 95% confidence interval and the standard error, S.E, is:\n",
    "\n",
    "S.E = sample standard deviation / \\sqrk{n}"
   ]
  },
  {
   "cell_type": "code",
   "execution_count": 21,
   "metadata": {},
   "outputs": [
    {
     "data": {
      "text/plain": [
       "[98.12367980442819, 98.37478173403336]"
      ]
     },
     "execution_count": 21,
     "metadata": {},
     "output_type": "execute_result"
    }
   ],
   "source": [
    "se = df_temp_sd/np.sqrt(len(df))\n",
    "me = 1.96*se\n",
    "confidence_interval = [df_temp_mean-me,df_temp_mean+me]\n",
    "confidence_interval"
   ]
  },
  {
   "cell_type": "markdown",
   "metadata": {},
   "source": [
    "If someone's temperature goes out of these bounds, it would be classified as \"abnormal\"."
   ]
  },
  {
   "cell_type": "markdown",
   "metadata": {},
   "source": [
    "6. Is there a significant difference between males and females in normal temperature?"
   ]
  },
  {
   "cell_type": "code",
   "execution_count": 29,
   "metadata": {},
   "outputs": [
    {
     "data": {
      "image/png": "[encoded data removed]",
      "text/plain": [
       "<matplotlib.figure.Figure at 0x19b4f076b70>"
      ]
     },
     "metadata": {},
     "output_type": "display_data"
    }
   ],
   "source": [
    "# Create two dataframes for males and females and investigate\n",
    "male_df = df[df.gender.str.contains('M')]\n",
    "female_df = df[df.gender.str.contains('F')]\n",
    "df[['gender', 'temperature']].groupby('gender').boxplot(return_type='axes')\n",
    "plt.show()"
   ]
  },
  {
   "cell_type": "markdown",
   "metadata": {},
   "source": [
    "There seem to be a difference between the two but note immediately that the means for both genders are within the IQR (interquartile range) of each other. This clues us to the fact that their respective means are not that far from each other. \n",
    "\n",
    "We can calculate a 2-sample t-test since we have two sample means we want to compare to see if there is significant difference between means."
   ]
  },
  {
   "cell_type": "code",
   "execution_count": 30,
   "metadata": {},
   "outputs": [
    {
     "data": {
      "text/plain": [
       "Ttest_indResult(statistic=-2.2854345381656103, pvalue=0.02393188312239561)"
      ]
     },
     "execution_count": 30,
     "metadata": {},
     "output_type": "execute_result"
    }
   ],
   "source": [
    "stats.ttest_ind(male_df.temperature, female_df.temperature)"
   ]
  },
  {
   "cell_type": "markdown",
   "metadata": {},
   "source": [
    "The p-value of this test is relatively small at 2.4%. This means that the two sample means are statistically different. To see if this p-value is significant we can calculate the 95% CI for each sample. An overlap would suggest that the two sample means are not so different. We can repurpose the PI function we defined earlier for this exercise."
   ]
  },
  {
   "cell_type": "code",
   "execution_count": 31,
   "metadata": {},
   "outputs": [
    {
     "name": "stdout",
     "output_type": "stream",
     "text": [
      "Male  \t| Sample mean is 98.104615 +/- 0.168558.\n",
      "      \t| The 95% CI is 97.936057 to 98.273174.\n",
      "\n",
      "Female\t| Sample mean is 98.393846 +/- 0.179349.\n",
      "      \t| The 95% CI is 98.214497 to 98.573195.\n"
     ]
    }
   ],
   "source": [
    "def calc_ci(data, alpha):\n",
    "    '''Function to return sample mean and CI for given level'''\n",
    "    mean = np.mean(data)\n",
    "    std  = np.std(data)\n",
    "    std_error = std / np.sqrt(len(data))\n",
    "    error = std_error * stats.norm.ppf(1 - (1-alpha)/2.)\n",
    "    return (mean,error)\n",
    "\n",
    "mean_m, error_m = calc_ci(male_df.temperature, 0.95)\n",
    "print('Male  \\t| Sample mean is %f +/- %f.' % (mean_m, error_m))\n",
    "print('      \\t| The 95%% CI is %f to %f.\\n' % (mean_m-error_m, mean_m+error_m))\n",
    "\n",
    "mean_f, error_f = calc_ci(female_df.temperature, 0.95)\n",
    "print('Female\\t| Sample mean is %f +/- %f.' % (mean_f, error_f))\n",
    "print('      \\t| The 95%% CI is %f to %f.' % (mean_f-error_f, mean_f+error_f))"
   ]
  },
  {
   "cell_type": "markdown",
   "metadata": {},
   "source": [
    "There is an overlap. Let's graph to visualize."
   ]
  },
  {
   "cell_type": "code",
   "execution_count": 32,
   "metadata": {},
   "outputs": [
    {
     "data": {
      "image/png": "[encoded data removed]",
      "text/plain": [
       "<matplotlib.figure.Figure at 0x19b50644710>"
      ]
     },
     "metadata": {},
     "output_type": "display_data"
    }
   ],
   "source": [
    "plt.figure(figsize=(4,8))\n",
    "plt.errorbar(['F','M'], [mean_f, mean_m], [error_f, error_m], marker='.', ms=25, ls='None', lw=4)\n",
    "plt.margins(0.3)\n",
    "plt.xlabel('Gender')\n",
    "plt.ylabel('Temperature')\n",
    "plt.ylim(97.9,98.6)\n",
    "plt.show()"
   ]
  },
  {
   "cell_type": "markdown",
   "metadata": {},
   "source": [
    "There is a small overlap between the two sample means. So even though the p-value suggests there is only about a 2.4% chance the the difference in sample means is coincidental, the CI says that perhaps that chance is bigger. Therefore, I do not think I can reject the null hypothesis. In other words, there is not a significant statistical difference in mean temperature between male and female.\n",
    "\n",
    "Regardless of the difference between male and female, we can see how well they compare to the supposed population mean of 98.6. We see that the female mean is higher than male, so it might be a better comparison. We can do a t-test as before with each gender separately."
   ]
  },
  {
   "cell_type": "code",
   "execution_count": 35,
   "metadata": {},
   "outputs": [
    {
     "name": "stdout",
     "output_type": "stream",
     "text": [
      "Ttest_1sampResult(statistic=-5.715757449318691, pvalue=3.083840317313081e-07)\n",
      "Ttest_1sampResult(statistic=-2.2354980796784965, pvalue=0.028880450789682037)\n"
     ]
    }
   ],
   "source": [
    "print(stats.ttest_1samp(male_df.temperature, 98.6))\n",
    "print(stats.ttest_1samp(female_df.temperature, 98.6))"
   ]
  },
  {
   "cell_type": "markdown",
   "metadata": {},
   "source": [
    "The male mean is different from the population mean, while the p-value for the female mean is not so small. It is in fact around 2.8% which is around the same level as the difference between male and female. So there might be some compatibilty between the accepted 98.6 mean with the female mean. \n",
    "My answer is there is no significant difference."
   ]
  }
 ],
 "metadata": {
  "kernelspec": {
   "display_name": "Python 3",
   "language": "python",
   "name": "python3"
  },
  "language_info": {
   "codemirror_mode": {
    "name": "ipython",
    "version": 3
   },
   "file_extension": ".py",
   "mimetype": "text/x-python",
   "name": "python",
   "nbconvert_exporter": "python",
   "pygments_lexer": "ipython3",
   "version": "3.6.4"
  }
 },
 "nbformat": 4,
 "nbformat_minor": 1
}
